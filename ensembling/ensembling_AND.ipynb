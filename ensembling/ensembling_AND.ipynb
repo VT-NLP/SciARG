{
 "cells": [
  {
   "cell_type": "code",
   "execution_count": 1,
   "id": "7c650267",
   "metadata": {},
   "outputs": [],
   "source": [
    "import numpy as np\n",
    "import pickle\n",
    "import pandas as pd\n",
    "import matplotlib.pyplot as plt\n",
    "\n",
    "%matplotlib inline"
   ]
  },
  {
   "cell_type": "code",
   "execution_count": 2,
   "id": "ebff2c4d",
   "metadata": {},
   "outputs": [],
   "source": [
    "test_df=pd.read_excel('../../data/data.xlsx', sheet_name=2)\n",
    "val_df=pd.read_excel('../../data/data.xlsx', sheet_name=1)\n",
    "def components(df):\n",
    "    labels = list(df['labels'])\n",
    "    return labels\n",
    "test_labels=components(test_df)\n",
    "val_labels=components(val_df)"
   ]
  },
  {
   "cell_type": "code",
   "execution_count": 3,
   "id": "41bcb89d",
   "metadata": {},
   "outputs": [
    {
     "data": {
      "text/plain": [
       "286"
      ]
     },
     "execution_count": 3,
     "metadata": {},
     "output_type": "execute_result"
    }
   ],
   "source": [
    "len(val_labels)"
   ]
  },
  {
   "cell_type": "code",
   "execution_count": 4,
   "id": "323dbfa5",
   "metadata": {},
   "outputs": [],
   "source": [
    "with open('2000/test_labels/sentiment_25_labels.txt', 'rb') as f:\n",
    "    sentiment_test_labels = pickle.load(f)\n",
    "f.close()"
   ]
  },
  {
   "cell_type": "code",
   "execution_count": 5,
   "id": "b04c7172",
   "metadata": {},
   "outputs": [],
   "source": [
    "with open('2000/val_labels/sentiment_25_labels.txt', 'rb') as f:\n",
    "    sentiment_val_labels = pickle.load(f)\n",
    "f.close()"
   ]
  },
  {
   "cell_type": "code",
   "execution_count": 6,
   "id": "d3ee3732",
   "metadata": {},
   "outputs": [],
   "source": [
    "with open('2000/test_labels/prompt1_25_labels.txt', 'rb') as f:\n",
    "    prompt1_test_labels = pickle.load(f)\n",
    "f.close()"
   ]
  },
  {
   "cell_type": "code",
   "execution_count": 7,
   "id": "dea3d4b8",
   "metadata": {},
   "outputs": [],
   "source": [
    "with open('2000/val_labels/prompt1_25_labels.txt', 'rb') as f:\n",
    "    prompt1_val_labels = pickle.load(f)\n",
    "f.close()"
   ]
  },
  {
   "cell_type": "code",
   "execution_count": 14,
   "id": "ef25254b",
   "metadata": {},
   "outputs": [],
   "source": [
    "with open('2000/test_labels/prompt2_50_labelsf1.txt', 'rb') as f:\n",
    "    prompt2_test_labels = pickle.load(f)\n",
    "f.close()"
   ]
  },
  {
   "cell_type": "code",
   "execution_count": 9,
   "id": "ea65cf3d",
   "metadata": {},
   "outputs": [],
   "source": [
    "with open('2000/val_labels/prompt2_50_labelsf1.txt', 'rb') as f:\n",
    "    prompt2_val_labels = pickle.load(f)\n",
    "f.close()"
   ]
  },
  {
   "cell_type": "code",
   "execution_count": 10,
   "id": "8693c04d",
   "metadata": {},
   "outputs": [
    {
     "data": {
      "text/plain": [
       "286"
      ]
     },
     "execution_count": 10,
     "metadata": {},
     "output_type": "execute_result"
    }
   ],
   "source": [
    "len(sentiment_val_labels)"
   ]
  },
  {
   "cell_type": "markdown",
   "id": "6c376d4b",
   "metadata": {},
   "source": [
    "# Test"
   ]
  },
  {
   "cell_type": "code",
   "execution_count": 11,
   "id": "a956ff4f",
   "metadata": {},
   "outputs": [
    {
     "name": "stdout",
     "output_type": "stream",
     "text": [
      "tp 971\n",
      "fp 493\n",
      "tn 424\n",
      "fn 112\n",
      "pos_precision 0.6632513661202186\n",
      "pos_recall 0.8965835641735919\n",
      "pos_f1 0.762465645857872\n",
      "neg_precision 0.7910447761194029\n",
      "neg_recall 0.4623773173391494\n",
      "neg_f1 0.5836200963523743\n"
     ]
    }
   ],
   "source": [
    "#using all the models\n",
    "\n",
    "tp=0\n",
    "fp=0\n",
    "tn=0\n",
    "fn=0\n",
    "for i in range(len(test_labels)):\n",
    "    if sentiment_test_labels[i]==prompt1_test_labels[i] and prompt1_test_labels[i]==prompt2_test_labels[i] and test_labels[i]==1:\n",
    "        tp+=1\n",
    "    elif sentiment_test_labels[i]==prompt1_test_labels[i] and prompt1_test_labels[i]==prompt2_test_labels[i] and test_labels[i]==0:\n",
    "        fp+=1\n",
    "    elif test_labels[i]==0:\n",
    "        tn+=1\n",
    "    elif test_labels[i]==1:\n",
    "        fn+=1\n",
    "\n",
    "print(f\"tp {tp}\")\n",
    "print(f\"fp {fp}\")\n",
    "print(f\"tn {tn}\")\n",
    "print(f\"fn {fn}\")\n",
    "print(f\"pos_precision {tp/(tp+fp)}\")\n",
    "print(f\"pos_recall {tp/(tp+fn)}\")\n",
    "print(f\"pos_f1 {(2*(tp/(tp+fp))*(tp/(tp+fn)))/((tp/(tp+fp))+(tp/(tp+fn)))}\")\n",
    "print(f\"neg_precision {tn/(tn+fn)}\")\n",
    "print(f\"neg_recall {tn/(tn+fp)}\")\n",
    "print(f\"neg_f1 {(2*(tn/(tn+fn))*(tn/(tn+fp)))/((tn/(tn+fn))+(tn/(tn+fp)))}\")"
   ]
  },
  {
   "cell_type": "markdown",
   "id": "b29e31e1",
   "metadata": {},
   "source": [
    "# Val"
   ]
  },
  {
   "cell_type": "code",
   "execution_count": 12,
   "id": "fea588a0",
   "metadata": {},
   "outputs": [
    {
     "name": "stdout",
     "output_type": "stream",
     "text": [
      "tp 123\n",
      "fp 81\n",
      "tn 62\n",
      "fn 20\n",
      "pos_precision 0.6029411764705882\n",
      "pos_recall 0.8601398601398601\n",
      "pos_f1 0.7089337175792506\n",
      "neg_precision 0.7560975609756098\n",
      "neg_recall 0.43356643356643354\n",
      "neg_f1 0.5511111111111111\n"
     ]
    }
   ],
   "source": [
    "#using all the models\n",
    "\n",
    "tp=0\n",
    "fp=0\n",
    "tn=0\n",
    "fn=0\n",
    "for i in range(len(val_labels)):\n",
    "    if sentiment_val_labels[i]==prompt1_val_labels[i] and prompt1_val_labels[i]==prompt2_val_labels[i] and val_labels[i]==1:\n",
    "        tp+=1\n",
    "    elif sentiment_val_labels[i]==prompt1_val_labels[i] and prompt1_val_labels[i]==prompt2_val_labels[i] and val_labels[i]==0:\n",
    "        fp+=1\n",
    "    elif val_labels[i]==0:\n",
    "        tn+=1\n",
    "    elif val_labels[i]==1:\n",
    "        fn+=1\n",
    "\n",
    "print(f\"tp {tp}\")\n",
    "print(f\"fp {fp}\")\n",
    "print(f\"tn {tn}\")\n",
    "print(f\"fn {fn}\")\n",
    "print(f\"pos_precision {tp/(tp+fp)}\")\n",
    "print(f\"pos_recall {tp/(tp+fn)}\")\n",
    "print(f\"pos_f1 {(2*(tp/(tp+fp))*(tp/(tp+fn)))/((tp/(tp+fp))+(tp/(tp+fn)))}\")\n",
    "print(f\"neg_precision {tn/(tn+fn)}\")\n",
    "print(f\"neg_recall {tn/(tn+fp)}\")\n",
    "print(f\"neg_f1 {(2*(tn/(tn+fn))*(tn/(tn+fp)))/((tn/(tn+fn))+(tn/(tn+fp)))}\")"
   ]
  },
  {
   "cell_type": "code",
   "execution_count": null,
   "id": "84d38832",
   "metadata": {},
   "outputs": [],
   "source": []
  }
 ],
 "metadata": {
  "kernelspec": {
   "display_name": "Python 3",
   "language": "python",
   "name": "python3"
  },
  "language_info": {
   "codemirror_mode": {
    "name": "ipython",
    "version": 3
   },
   "file_extension": ".py",
   "mimetype": "text/x-python",
   "name": "python",
   "nbconvert_exporter": "python",
   "pygments_lexer": "ipython3",
   "version": "3.9.5"
  }
 },
 "nbformat": 4,
 "nbformat_minor": 5
}
